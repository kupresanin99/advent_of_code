{
 "cells": [
  {
   "cell_type": "code",
   "execution_count": 40,
   "id": "3f21c802",
   "metadata": {},
   "outputs": [
    {
     "data": {
      "text/plain": [
       "'x = 1436, y = 584, sum = 2020, product = 838624'"
      ]
     },
     "execution_count": 40,
     "metadata": {},
     "output_type": "execute_result"
    }
   ],
   "source": [
    "my_list = open('puzzle_1_1.txt', 'r').read().split('\\n')\n",
    "\n",
    "[(f\"x = {x}, y = {y}, sum = {int(x) + int(y)}, product = {int(x) * int(y)}\")\\\n",
    "         for x in my_list for y in my_list\\\n",
    "         if int(x) + int(y) == 2020][0]"
   ]
  },
  {
   "cell_type": "code",
   "execution_count": 42,
   "id": "cd8a5c3c",
   "metadata": {},
   "outputs": [
    {
     "data": {
      "text/plain": [
       "'x = 245, y = 131, z = 1644, sum = 2020, product = 52764180'"
      ]
     },
     "execution_count": 42,
     "metadata": {},
     "output_type": "execute_result"
    }
   ],
   "source": [
    "[(f\"x = {x}, y = {y}, z = {z}, sum = {int(x) + int(y) + int(z)}, product = {int(x) * int(y) * int(z)}\")\\\n",
    "         for x in my_list for y in my_list for z in my_list\n",
    "         if int(x) + int(y) + int(z) == 2020][0]"
   ]
  },
  {
   "cell_type": "code",
   "execution_count": null,
   "id": "53bb7a1c",
   "metadata": {},
   "outputs": [],
   "source": []
  }
 ],
 "metadata": {
  "kernelspec": {
   "display_name": "Python 3",
   "language": "python",
   "name": "python3"
  },
  "language_info": {
   "codemirror_mode": {
    "name": "ipython",
    "version": 3
   },
   "file_extension": ".py",
   "mimetype": "text/x-python",
   "name": "python",
   "nbconvert_exporter": "python",
   "pygments_lexer": "ipython3",
   "version": "3.8.8"
  }
 },
 "nbformat": 4,
 "nbformat_minor": 5
}
