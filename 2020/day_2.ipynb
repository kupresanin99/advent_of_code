{
 "cells": [
  {
   "cell_type": "code",
   "execution_count": 15,
   "id": "a5220c7b",
   "metadata": {},
   "outputs": [
    {
     "name": "stdout",
     "output_type": "stream",
     "text": [
      "We have 636 good passwords and 364 bad passwords\n"
     ]
    }
   ],
   "source": [
    "f = open(\"day_2.txt\", \"r\")\n",
    "good_passwords = 0\n",
    "bad_passwords = 0\n",
    "for line in f.readlines():\n",
    "    part1 = line.split(' ')\n",
    "    part2 = part1[0].split('-')\n",
    "    my_min = int(part2[0])\n",
    "    my_max = int(part2[1])\n",
    "    my_char = part1[1][0]\n",
    "    my_pass = part1[2].strip()\n",
    "    if my_pass.count(my_char) in range(my_min, my_max + 1):\n",
    "        good_passwords += 1\n",
    "    else:\n",
    "        bad_passwords += 1\n",
    "print(f\"We have {good_passwords} good passwords and {bad_passwords} bad passwords\")"
   ]
  },
  {
   "cell_type": "code",
   "execution_count": 16,
   "id": "ead4a432",
   "metadata": {},
   "outputs": [
    {
     "name": "stdout",
     "output_type": "stream",
     "text": [
      "We have 588 good passwords and 412 bad passwords\n"
     ]
    }
   ],
   "source": [
    "f = open(\"day_2.txt\", \"r\")\n",
    "good_passwords = 0\n",
    "bad_passwords = 0\n",
    "\n",
    "for line in f.readlines():\n",
    "    part1 = line.split(' ')\n",
    "    part2 = part1[0].split('-')\n",
    "    my_min = int(part2[0])\n",
    "    my_max = int(part2[1])\n",
    "    my_char = part1[1][0]\n",
    "    my_pass = part1[2].strip()\n",
    "    target = 0\n",
    "    if my_pass[my_min - 1] == my_char:\n",
    "        target += 1\n",
    "    if my_pass[my_max - 1] == my_char:\n",
    "        target += 1\n",
    "    if target == 1:\n",
    "        good_passwords += 1\n",
    "    else:\n",
    "        bad_passwords += 1\n",
    "print(f\"We have {good_passwords} good passwords and {bad_passwords} bad passwords\")"
   ]
  },
  {
   "cell_type": "code",
   "execution_count": null,
   "id": "35f87cae",
   "metadata": {},
   "outputs": [],
   "source": []
  }
 ],
 "metadata": {
  "kernelspec": {
   "display_name": "Python 3",
   "language": "python",
   "name": "python3"
  },
  "language_info": {
   "codemirror_mode": {
    "name": "ipython",
    "version": 3
   },
   "file_extension": ".py",
   "mimetype": "text/x-python",
   "name": "python",
   "nbconvert_exporter": "python",
   "pygments_lexer": "ipython3",
   "version": "3.8.8"
  }
 },
 "nbformat": 4,
 "nbformat_minor": 5
}
